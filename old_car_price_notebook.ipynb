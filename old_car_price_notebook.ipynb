{
 "cells": [
  {
   "cell_type": "code",
   "execution_count": 41,
   "metadata": {},
   "outputs": [],
   "source": [
    "import numpy as np\n",
    "import pandas as pd\n",
    "import matplotlib.pyplot as plt\n",
    "import seaborn as sns\n",
    "\n",
    "# splitting the data\n",
    "from sklearn.model_selection import train_test_split\n",
    "\n",
    "# Ml Algorithms\n",
    "# Linear Regression\n",
    "from sklearn.linear_model import LinearRegression\n",
    "# Random Forest Regressor\n",
    "from sklearn.ensemble import RandomForestRegressor\n",
    "# XGB BOOST Regressor\n",
    "import xgboost as xgb\n",
    "\n",
    "# checking accuracy\n",
    "from sklearn.metrics import mean_absolute_error, mean_squared_error,r2_score\n",
    "\n",
    "# for pickling the modelling\n",
    "import pickle"
   ]
  },
  {
   "cell_type": "code",
   "execution_count": 5,
   "metadata": {},
   "outputs": [],
   "source": [
    "df = pd.read_csv('car-data.csv')"
   ]
  },
  {
   "cell_type": "code",
   "execution_count": 6,
   "metadata": {},
   "outputs": [
    {
     "data": {
      "text/html": [
       "<div>\n",
       "<style scoped>\n",
       "    .dataframe tbody tr th:only-of-type {\n",
       "        vertical-align: middle;\n",
       "    }\n",
       "\n",
       "    .dataframe tbody tr th {\n",
       "        vertical-align: top;\n",
       "    }\n",
       "\n",
       "    .dataframe thead th {\n",
       "        text-align: right;\n",
       "    }\n",
       "</style>\n",
       "<table border=\"1\" class=\"dataframe\">\n",
       "  <thead>\n",
       "    <tr style=\"text-align: right;\">\n",
       "      <th></th>\n",
       "      <th>year</th>\n",
       "      <th>price</th>\n",
       "      <th>transmission</th>\n",
       "      <th>miles runned</th>\n",
       "      <th>fuelType</th>\n",
       "      <th>tax</th>\n",
       "      <th>mpg</th>\n",
       "      <th>engineSize</th>\n",
       "    </tr>\n",
       "  </thead>\n",
       "  <tbody>\n",
       "    <tr>\n",
       "      <th>4710</th>\n",
       "      <td>2017</td>\n",
       "      <td>14000</td>\n",
       "      <td>Manual</td>\n",
       "      <td>26477</td>\n",
       "      <td>Petrol</td>\n",
       "      <td>20</td>\n",
       "      <td>60.1</td>\n",
       "      <td>1.4</td>\n",
       "    </tr>\n",
       "    <tr>\n",
       "      <th>5323</th>\n",
       "      <td>2018</td>\n",
       "      <td>22495</td>\n",
       "      <td>Automatic</td>\n",
       "      <td>13054</td>\n",
       "      <td>Petrol</td>\n",
       "      <td>150</td>\n",
       "      <td>44.1</td>\n",
       "      <td>2.0</td>\n",
       "    </tr>\n",
       "    <tr>\n",
       "      <th>10686</th>\n",
       "      <td>2020</td>\n",
       "      <td>32427</td>\n",
       "      <td>Semi-Auto</td>\n",
       "      <td>678</td>\n",
       "      <td>Diesel</td>\n",
       "      <td>150</td>\n",
       "      <td>31.4</td>\n",
       "      <td>2.0</td>\n",
       "    </tr>\n",
       "    <tr>\n",
       "      <th>10325</th>\n",
       "      <td>2014</td>\n",
       "      <td>11991</td>\n",
       "      <td>Manual</td>\n",
       "      <td>60010</td>\n",
       "      <td>Diesel</td>\n",
       "      <td>165</td>\n",
       "      <td>48.7</td>\n",
       "      <td>2.0</td>\n",
       "    </tr>\n",
       "    <tr>\n",
       "      <th>10438</th>\n",
       "      <td>2017</td>\n",
       "      <td>19495</td>\n",
       "      <td>Semi-Auto</td>\n",
       "      <td>39203</td>\n",
       "      <td>Diesel</td>\n",
       "      <td>150</td>\n",
       "      <td>49.6</td>\n",
       "      <td>2.0</td>\n",
       "    </tr>\n",
       "    <tr>\n",
       "      <th>7858</th>\n",
       "      <td>2017</td>\n",
       "      <td>9841</td>\n",
       "      <td>Manual</td>\n",
       "      <td>32377</td>\n",
       "      <td>Petrol</td>\n",
       "      <td>145</td>\n",
       "      <td>60.1</td>\n",
       "      <td>1.2</td>\n",
       "    </tr>\n",
       "    <tr>\n",
       "      <th>3739</th>\n",
       "      <td>2019</td>\n",
       "      <td>20146</td>\n",
       "      <td>Manual</td>\n",
       "      <td>9127</td>\n",
       "      <td>Petrol</td>\n",
       "      <td>145</td>\n",
       "      <td>45.6</td>\n",
       "      <td>1.5</td>\n",
       "    </tr>\n",
       "    <tr>\n",
       "      <th>8160</th>\n",
       "      <td>2016</td>\n",
       "      <td>13401</td>\n",
       "      <td>Manual</td>\n",
       "      <td>6194</td>\n",
       "      <td>Petrol</td>\n",
       "      <td>20</td>\n",
       "      <td>61.4</td>\n",
       "      <td>1.4</td>\n",
       "    </tr>\n",
       "    <tr>\n",
       "      <th>10025</th>\n",
       "      <td>2015</td>\n",
       "      <td>9000</td>\n",
       "      <td>Manual</td>\n",
       "      <td>17498</td>\n",
       "      <td>Diesel</td>\n",
       "      <td>0</td>\n",
       "      <td>83.1</td>\n",
       "      <td>1.4</td>\n",
       "    </tr>\n",
       "    <tr>\n",
       "      <th>417</th>\n",
       "      <td>2019</td>\n",
       "      <td>19495</td>\n",
       "      <td>Manual</td>\n",
       "      <td>3757</td>\n",
       "      <td>Diesel</td>\n",
       "      <td>145</td>\n",
       "      <td>50.4</td>\n",
       "      <td>1.6</td>\n",
       "    </tr>\n",
       "  </tbody>\n",
       "</table>\n",
       "</div>"
      ],
      "text/plain": [
       "       year  price transmission  miles runned fuelType  tax   mpg  engineSize\n",
       "4710   2017  14000       Manual         26477   Petrol   20  60.1         1.4\n",
       "5323   2018  22495    Automatic         13054   Petrol  150  44.1         2.0\n",
       "10686  2020  32427    Semi-Auto           678   Diesel  150  31.4         2.0\n",
       "10325  2014  11991       Manual         60010   Diesel  165  48.7         2.0\n",
       "10438  2017  19495    Semi-Auto         39203   Diesel  150  49.6         2.0\n",
       "7858   2017   9841       Manual         32377   Petrol  145  60.1         1.2\n",
       "3739   2019  20146       Manual          9127   Petrol  145  45.6         1.5\n",
       "8160   2016  13401       Manual          6194   Petrol   20  61.4         1.4\n",
       "10025  2015   9000       Manual         17498   Diesel    0  83.1         1.4\n",
       "417    2019  19495       Manual          3757   Diesel  145  50.4         1.6"
      ]
     },
     "execution_count": 6,
     "metadata": {},
     "output_type": "execute_result"
    }
   ],
   "source": [
    "df.sample(10)"
   ]
  },
  {
   "cell_type": "code",
   "execution_count": 7,
   "metadata": {},
   "outputs": [
    {
     "data": {
      "text/plain": [
       "(15157, 8)"
      ]
     },
     "execution_count": 7,
     "metadata": {},
     "output_type": "execute_result"
    }
   ],
   "source": [
    "df.shape"
   ]
  },
  {
   "cell_type": "code",
   "execution_count": 8,
   "metadata": {},
   "outputs": [
    {
     "data": {
      "text/plain": [
       "year            0\n",
       "price           0\n",
       "transmission    0\n",
       "miles runned    0\n",
       "fuelType        0\n",
       "tax             0\n",
       "mpg             0\n",
       "engineSize      0\n",
       "dtype: int64"
      ]
     },
     "execution_count": 8,
     "metadata": {},
     "output_type": "execute_result"
    }
   ],
   "source": [
    "df.isnull().sum()"
   ]
  },
  {
   "cell_type": "code",
   "execution_count": 9,
   "metadata": {},
   "outputs": [
    {
     "data": {
      "text/html": [
       "<div>\n",
       "<style scoped>\n",
       "    .dataframe tbody tr th:only-of-type {\n",
       "        vertical-align: middle;\n",
       "    }\n",
       "\n",
       "    .dataframe tbody tr th {\n",
       "        vertical-align: top;\n",
       "    }\n",
       "\n",
       "    .dataframe thead th {\n",
       "        text-align: right;\n",
       "    }\n",
       "</style>\n",
       "<table border=\"1\" class=\"dataframe\">\n",
       "  <thead>\n",
       "    <tr style=\"text-align: right;\">\n",
       "      <th></th>\n",
       "      <th>year</th>\n",
       "      <th>price</th>\n",
       "      <th>transmission</th>\n",
       "      <th>miles runned</th>\n",
       "      <th>fuelType</th>\n",
       "      <th>tax</th>\n",
       "      <th>mpg</th>\n",
       "      <th>engineSize</th>\n",
       "      <th>car_age</th>\n",
       "    </tr>\n",
       "  </thead>\n",
       "  <tbody>\n",
       "    <tr>\n",
       "      <th>0</th>\n",
       "      <td>2019</td>\n",
       "      <td>25000</td>\n",
       "      <td>Automatic</td>\n",
       "      <td>13904</td>\n",
       "      <td>Diesel</td>\n",
       "      <td>145</td>\n",
       "      <td>49.6</td>\n",
       "      <td>2.0</td>\n",
       "      <td>2</td>\n",
       "    </tr>\n",
       "    <tr>\n",
       "      <th>1</th>\n",
       "      <td>2019</td>\n",
       "      <td>26883</td>\n",
       "      <td>Automatic</td>\n",
       "      <td>4562</td>\n",
       "      <td>Diesel</td>\n",
       "      <td>145</td>\n",
       "      <td>49.6</td>\n",
       "      <td>2.0</td>\n",
       "      <td>2</td>\n",
       "    </tr>\n",
       "    <tr>\n",
       "      <th>2</th>\n",
       "      <td>2019</td>\n",
       "      <td>20000</td>\n",
       "      <td>Manual</td>\n",
       "      <td>7414</td>\n",
       "      <td>Diesel</td>\n",
       "      <td>145</td>\n",
       "      <td>50.4</td>\n",
       "      <td>2.0</td>\n",
       "      <td>2</td>\n",
       "    </tr>\n",
       "    <tr>\n",
       "      <th>3</th>\n",
       "      <td>2019</td>\n",
       "      <td>33492</td>\n",
       "      <td>Automatic</td>\n",
       "      <td>4825</td>\n",
       "      <td>Petrol</td>\n",
       "      <td>145</td>\n",
       "      <td>32.5</td>\n",
       "      <td>2.0</td>\n",
       "      <td>2</td>\n",
       "    </tr>\n",
       "    <tr>\n",
       "      <th>4</th>\n",
       "      <td>2019</td>\n",
       "      <td>22900</td>\n",
       "      <td>Semi-Auto</td>\n",
       "      <td>6500</td>\n",
       "      <td>Petrol</td>\n",
       "      <td>150</td>\n",
       "      <td>39.8</td>\n",
       "      <td>1.5</td>\n",
       "      <td>2</td>\n",
       "    </tr>\n",
       "  </tbody>\n",
       "</table>\n",
       "</div>"
      ],
      "text/plain": [
       "   year  price transmission  miles runned fuelType  tax   mpg  engineSize  \\\n",
       "0  2019  25000    Automatic         13904   Diesel  145  49.6         2.0   \n",
       "1  2019  26883    Automatic          4562   Diesel  145  49.6         2.0   \n",
       "2  2019  20000       Manual          7414   Diesel  145  50.4         2.0   \n",
       "3  2019  33492    Automatic          4825   Petrol  145  32.5         2.0   \n",
       "4  2019  22900    Semi-Auto          6500   Petrol  150  39.8         1.5   \n",
       "\n",
       "   car_age  \n",
       "0        2  \n",
       "1        2  \n",
       "2        2  \n",
       "3        2  \n",
       "4        2  "
      ]
     },
     "execution_count": 9,
     "metadata": {},
     "output_type": "execute_result"
    }
   ],
   "source": [
    "df[\"car_age\"] = 2021 - df[\"year\"]\n",
    "\n",
    "df.head()"
   ]
  },
  {
   "cell_type": "code",
   "execution_count": 10,
   "metadata": {},
   "outputs": [
    {
     "data": {
      "text/plain": [
       "2019    4669\n",
       "2017    2947\n",
       "2016    2647\n",
       "2018    1509\n",
       "2015    1153\n",
       "2020    1046\n",
       "2014     580\n",
       "2013     315\n",
       "2012      80\n",
       "2011      57\n",
       "2010      41\n",
       "2009      31\n",
       "2008      27\n",
       "2007      20\n",
       "2006      16\n",
       "2005       8\n",
       "2001       4\n",
       "2004       3\n",
       "2003       2\n",
       "2002       1\n",
       "2000       1\n",
       "Name: year, dtype: int64"
      ]
     },
     "execution_count": 10,
     "metadata": {},
     "output_type": "execute_result"
    }
   ],
   "source": [
    "df.year.value_counts()"
   ]
  },
  {
   "cell_type": "code",
   "execution_count": 11,
   "metadata": {},
   "outputs": [],
   "source": [
    "year_counts = pd.DataFrame(data = df.year.value_counts())"
   ]
  },
  {
   "cell_type": "code",
   "execution_count": 12,
   "metadata": {},
   "outputs": [],
   "source": [
    "year_counts.reset_index(inplace=True)"
   ]
  },
  {
   "cell_type": "code",
   "execution_count": 13,
   "metadata": {},
   "outputs": [
    {
     "data": {
      "text/html": [
       "<div>\n",
       "<style scoped>\n",
       "    .dataframe tbody tr th:only-of-type {\n",
       "        vertical-align: middle;\n",
       "    }\n",
       "\n",
       "    .dataframe tbody tr th {\n",
       "        vertical-align: top;\n",
       "    }\n",
       "\n",
       "    .dataframe thead th {\n",
       "        text-align: right;\n",
       "    }\n",
       "</style>\n",
       "<table border=\"1\" class=\"dataframe\">\n",
       "  <thead>\n",
       "    <tr style=\"text-align: right;\">\n",
       "      <th></th>\n",
       "      <th>year</th>\n",
       "      <th>counts</th>\n",
       "    </tr>\n",
       "  </thead>\n",
       "  <tbody>\n",
       "    <tr>\n",
       "      <th>0</th>\n",
       "      <td>2019</td>\n",
       "      <td>4669</td>\n",
       "    </tr>\n",
       "    <tr>\n",
       "      <th>1</th>\n",
       "      <td>2017</td>\n",
       "      <td>2947</td>\n",
       "    </tr>\n",
       "    <tr>\n",
       "      <th>2</th>\n",
       "      <td>2016</td>\n",
       "      <td>2647</td>\n",
       "    </tr>\n",
       "    <tr>\n",
       "      <th>3</th>\n",
       "      <td>2018</td>\n",
       "      <td>1509</td>\n",
       "    </tr>\n",
       "    <tr>\n",
       "      <th>4</th>\n",
       "      <td>2015</td>\n",
       "      <td>1153</td>\n",
       "    </tr>\n",
       "    <tr>\n",
       "      <th>5</th>\n",
       "      <td>2020</td>\n",
       "      <td>1046</td>\n",
       "    </tr>\n",
       "    <tr>\n",
       "      <th>6</th>\n",
       "      <td>2014</td>\n",
       "      <td>580</td>\n",
       "    </tr>\n",
       "    <tr>\n",
       "      <th>7</th>\n",
       "      <td>2013</td>\n",
       "      <td>315</td>\n",
       "    </tr>\n",
       "    <tr>\n",
       "      <th>8</th>\n",
       "      <td>2012</td>\n",
       "      <td>80</td>\n",
       "    </tr>\n",
       "    <tr>\n",
       "      <th>9</th>\n",
       "      <td>2011</td>\n",
       "      <td>57</td>\n",
       "    </tr>\n",
       "    <tr>\n",
       "      <th>10</th>\n",
       "      <td>2010</td>\n",
       "      <td>41</td>\n",
       "    </tr>\n",
       "    <tr>\n",
       "      <th>11</th>\n",
       "      <td>2009</td>\n",
       "      <td>31</td>\n",
       "    </tr>\n",
       "    <tr>\n",
       "      <th>12</th>\n",
       "      <td>2008</td>\n",
       "      <td>27</td>\n",
       "    </tr>\n",
       "    <tr>\n",
       "      <th>13</th>\n",
       "      <td>2007</td>\n",
       "      <td>20</td>\n",
       "    </tr>\n",
       "    <tr>\n",
       "      <th>14</th>\n",
       "      <td>2006</td>\n",
       "      <td>16</td>\n",
       "    </tr>\n",
       "    <tr>\n",
       "      <th>15</th>\n",
       "      <td>2005</td>\n",
       "      <td>8</td>\n",
       "    </tr>\n",
       "    <tr>\n",
       "      <th>16</th>\n",
       "      <td>2001</td>\n",
       "      <td>4</td>\n",
       "    </tr>\n",
       "    <tr>\n",
       "      <th>17</th>\n",
       "      <td>2004</td>\n",
       "      <td>3</td>\n",
       "    </tr>\n",
       "    <tr>\n",
       "      <th>18</th>\n",
       "      <td>2003</td>\n",
       "      <td>2</td>\n",
       "    </tr>\n",
       "    <tr>\n",
       "      <th>19</th>\n",
       "      <td>2002</td>\n",
       "      <td>1</td>\n",
       "    </tr>\n",
       "    <tr>\n",
       "      <th>20</th>\n",
       "      <td>2000</td>\n",
       "      <td>1</td>\n",
       "    </tr>\n",
       "  </tbody>\n",
       "</table>\n",
       "</div>"
      ],
      "text/plain": [
       "    year  counts\n",
       "0   2019    4669\n",
       "1   2017    2947\n",
       "2   2016    2647\n",
       "3   2018    1509\n",
       "4   2015    1153\n",
       "5   2020    1046\n",
       "6   2014     580\n",
       "7   2013     315\n",
       "8   2012      80\n",
       "9   2011      57\n",
       "10  2010      41\n",
       "11  2009      31\n",
       "12  2008      27\n",
       "13  2007      20\n",
       "14  2006      16\n",
       "15  2005       8\n",
       "16  2001       4\n",
       "17  2004       3\n",
       "18  2003       2\n",
       "19  2002       1\n",
       "20  2000       1"
      ]
     },
     "execution_count": 13,
     "metadata": {},
     "output_type": "execute_result"
    }
   ],
   "source": [
    "year_counts.rename(columns={'index':'year','year':'counts'},inplace=True)\n",
    "year_counts"
   ]
  },
  {
   "cell_type": "code",
   "execution_count": 14,
   "metadata": {},
   "outputs": [
    {
     "data": {
      "text/plain": [
       "<matplotlib.axes._subplots.AxesSubplot at 0x15997406520>"
      ]
     },
     "execution_count": 14,
     "metadata": {},
     "output_type": "execute_result"
    },
    {
     "data": {
      "image/png": "[encoded data removed]",
      "text/plain": [
       "<Figure size 720x576 with 1 Axes>"
      ]
     },
     "metadata": {
      "needs_background": "light"
     },
     "output_type": "display_data"
    }
   ],
   "source": [
    "fig, ax = plt.subplots(figsize=(10,8))\n",
    "sns.barplot(x='year',y='counts',data=year_counts)"
   ]
  },
  {
   "cell_type": "code",
   "execution_count": 15,
   "metadata": {},
   "outputs": [
    {
     "data": {
      "text/plain": [
       "<matplotlib.axes._subplots.AxesSubplot at 0x159973e5b50>"
      ]
     },
     "execution_count": 15,
     "metadata": {},
     "output_type": "execute_result"
    },
    {
     "data": {
      "image/png": "[encoded data removed]",
      "text/plain": [
       "<Figure size 432x288 with 1 Axes>"
      ]
     },
     "metadata": {
      "needs_background": "light"
     },
     "output_type": "display_data"
    }
   ],
   "source": [
    "sns.distplot(df[\"price\"],bins=15)"
   ]
  },
  {
   "cell_type": "code",
   "execution_count": 16,
   "metadata": {},
   "outputs": [
    {
     "data": {
      "text/plain": [
       "<matplotlib.axes._subplots.AxesSubplot at 0x15997c4fca0>"
      ]
     },
     "execution_count": 16,
     "metadata": {},
     "output_type": "execute_result"
    },
    {
     "data": {
      "image/png": "[encoded data removed]",
      "text/plain": [
       "<Figure size 432x288 with 1 Axes>"
      ]
     },
     "metadata": {
      "needs_background": "light"
     },
     "output_type": "display_data"
    }
   ],
   "source": [
    "sns.boxplot(df[\"price\"])"
   ]
  },
  {
   "cell_type": "code",
   "execution_count": 17,
   "metadata": {},
   "outputs": [
    {
     "data": {
      "text/html": [
       "<div>\n",
       "<style scoped>\n",
       "    .dataframe tbody tr th:only-of-type {\n",
       "        vertical-align: middle;\n",
       "    }\n",
       "\n",
       "    .dataframe tbody tr th {\n",
       "        vertical-align: top;\n",
       "    }\n",
       "\n",
       "    .dataframe thead th {\n",
       "        text-align: right;\n",
       "    }\n",
       "</style>\n",
       "<table border=\"1\" class=\"dataframe\">\n",
       "  <thead>\n",
       "    <tr style=\"text-align: right;\">\n",
       "      <th></th>\n",
       "      <th>year</th>\n",
       "      <th>price</th>\n",
       "      <th>transmission</th>\n",
       "      <th>miles runned</th>\n",
       "      <th>fuelType</th>\n",
       "      <th>tax</th>\n",
       "      <th>mpg</th>\n",
       "      <th>engineSize</th>\n",
       "      <th>car_age</th>\n",
       "    </tr>\n",
       "  </thead>\n",
       "  <tbody>\n",
       "    <tr>\n",
       "      <th>11849</th>\n",
       "      <td>2019</td>\n",
       "      <td>43995</td>\n",
       "      <td>Automatic</td>\n",
       "      <td>2927</td>\n",
       "      <td>Other</td>\n",
       "      <td>150</td>\n",
       "      <td>30.4</td>\n",
       "      <td>2.0</td>\n",
       "      <td>2</td>\n",
       "    </tr>\n",
       "    <tr>\n",
       "      <th>13391</th>\n",
       "      <td>2020</td>\n",
       "      <td>47000</td>\n",
       "      <td>Automatic</td>\n",
       "      <td>1001</td>\n",
       "      <td>Diesel</td>\n",
       "      <td>145</td>\n",
       "      <td>33.6</td>\n",
       "      <td>2.0</td>\n",
       "      <td>1</td>\n",
       "    </tr>\n",
       "    <tr>\n",
       "      <th>13397</th>\n",
       "      <td>2019</td>\n",
       "      <td>52999</td>\n",
       "      <td>Semi-Auto</td>\n",
       "      <td>3365</td>\n",
       "      <td>Diesel</td>\n",
       "      <td>145</td>\n",
       "      <td>29.4</td>\n",
       "      <td>2.0</td>\n",
       "      <td>2</td>\n",
       "    </tr>\n",
       "    <tr>\n",
       "      <th>13401</th>\n",
       "      <td>2019</td>\n",
       "      <td>46795</td>\n",
       "      <td>Semi-Auto</td>\n",
       "      <td>6280</td>\n",
       "      <td>Diesel</td>\n",
       "      <td>145</td>\n",
       "      <td>33.6</td>\n",
       "      <td>2.0</td>\n",
       "      <td>2</td>\n",
       "    </tr>\n",
       "    <tr>\n",
       "      <th>13402</th>\n",
       "      <td>2020</td>\n",
       "      <td>43495</td>\n",
       "      <td>Semi-Auto</td>\n",
       "      <td>2000</td>\n",
       "      <td>Diesel</td>\n",
       "      <td>150</td>\n",
       "      <td>33.6</td>\n",
       "      <td>2.0</td>\n",
       "      <td>1</td>\n",
       "    </tr>\n",
       "    <tr>\n",
       "      <th>...</th>\n",
       "      <td>...</td>\n",
       "      <td>...</td>\n",
       "      <td>...</td>\n",
       "      <td>...</td>\n",
       "      <td>...</td>\n",
       "      <td>...</td>\n",
       "      <td>...</td>\n",
       "      <td>...</td>\n",
       "      <td>...</td>\n",
       "    </tr>\n",
       "    <tr>\n",
       "      <th>15123</th>\n",
       "      <td>2019</td>\n",
       "      <td>57991</td>\n",
       "      <td>Automatic</td>\n",
       "      <td>10288</td>\n",
       "      <td>Diesel</td>\n",
       "      <td>260</td>\n",
       "      <td>33.2</td>\n",
       "      <td>2.0</td>\n",
       "      <td>2</td>\n",
       "    </tr>\n",
       "    <tr>\n",
       "      <th>15124</th>\n",
       "      <td>2019</td>\n",
       "      <td>57991</td>\n",
       "      <td>Automatic</td>\n",
       "      <td>6739</td>\n",
       "      <td>Diesel</td>\n",
       "      <td>260</td>\n",
       "      <td>33.2</td>\n",
       "      <td>2.0</td>\n",
       "      <td>2</td>\n",
       "    </tr>\n",
       "    <tr>\n",
       "      <th>15125</th>\n",
       "      <td>2019</td>\n",
       "      <td>57991</td>\n",
       "      <td>Automatic</td>\n",
       "      <td>7259</td>\n",
       "      <td>Diesel</td>\n",
       "      <td>260</td>\n",
       "      <td>33.2</td>\n",
       "      <td>2.0</td>\n",
       "      <td>2</td>\n",
       "    </tr>\n",
       "    <tr>\n",
       "      <th>15126</th>\n",
       "      <td>2019</td>\n",
       "      <td>57991</td>\n",
       "      <td>Automatic</td>\n",
       "      <td>7486</td>\n",
       "      <td>Diesel</td>\n",
       "      <td>260</td>\n",
       "      <td>33.2</td>\n",
       "      <td>2.0</td>\n",
       "      <td>2</td>\n",
       "    </tr>\n",
       "    <tr>\n",
       "      <th>15127</th>\n",
       "      <td>2019</td>\n",
       "      <td>57991</td>\n",
       "      <td>Automatic</td>\n",
       "      <td>10080</td>\n",
       "      <td>Diesel</td>\n",
       "      <td>260</td>\n",
       "      <td>29.1</td>\n",
       "      <td>2.0</td>\n",
       "      <td>2</td>\n",
       "    </tr>\n",
       "  </tbody>\n",
       "</table>\n",
       "<p>150 rows × 9 columns</p>\n",
       "</div>"
      ],
      "text/plain": [
       "       year  price transmission  miles runned fuelType  tax   mpg  engineSize  \\\n",
       "11849  2019  43995    Automatic          2927    Other  150  30.4         2.0   \n",
       "13391  2020  47000    Automatic          1001   Diesel  145  33.6         2.0   \n",
       "13397  2019  52999    Semi-Auto          3365   Diesel  145  29.4         2.0   \n",
       "13401  2019  46795    Semi-Auto          6280   Diesel  145  33.6         2.0   \n",
       "13402  2020  43495    Semi-Auto          2000   Diesel  150  33.6         2.0   \n",
       "...     ...    ...          ...           ...      ...  ...   ...         ...   \n",
       "15123  2019  57991    Automatic         10288   Diesel  260  33.2         2.0   \n",
       "15124  2019  57991    Automatic          6739   Diesel  260  33.2         2.0   \n",
       "15125  2019  57991    Automatic          7259   Diesel  260  33.2         2.0   \n",
       "15126  2019  57991    Automatic          7486   Diesel  260  33.2         2.0   \n",
       "15127  2019  57991    Automatic         10080   Diesel  260  29.1         2.0   \n",
       "\n",
       "       car_age  \n",
       "11849        2  \n",
       "13391        1  \n",
       "13397        2  \n",
       "13401        2  \n",
       "13402        1  \n",
       "...        ...  \n",
       "15123        2  \n",
       "15124        2  \n",
       "15125        2  \n",
       "15126        2  \n",
       "15127        2  \n",
       "\n",
       "[150 rows x 9 columns]"
      ]
     },
     "execution_count": 17,
     "metadata": {},
     "output_type": "execute_result"
    }
   ],
   "source": [
    "# dropping outrange values called as outliers\n",
    "df[df[\"price\"]>df[\"price\"].quantile(.99)]"
   ]
  },
  {
   "cell_type": "code",
   "execution_count": 18,
   "metadata": {},
   "outputs": [
    {
     "data": {
      "image/png": "[encoded data removed]",
      "text/plain": [
       "<Figure size 432x288 with 1 Axes>"
      ]
     },
     "metadata": {
      "needs_background": "light"
     },
     "output_type": "display_data"
    }
   ],
   "source": [
    "plt.hist(df[\"price\"])\n",
    "plt.show()"
   ]
  },
  {
   "cell_type": "code",
   "execution_count": 19,
   "metadata": {},
   "outputs": [
    {
     "data": {
      "text/plain": [
       "Manual       9417\n",
       "Semi-Auto    3780\n",
       "Automatic    1960\n",
       "Name: transmission, dtype: int64"
      ]
     },
     "execution_count": 19,
     "metadata": {},
     "output_type": "execute_result"
    }
   ],
   "source": [
    "df.transmission.value_counts()"
   ]
  },
  {
   "cell_type": "code",
   "execution_count": 20,
   "metadata": {},
   "outputs": [
    {
     "data": {
      "text/plain": [
       "<seaborn.axisgrid.FacetGrid at 0x15997cf1bb0>"
      ]
     },
     "execution_count": 20,
     "metadata": {},
     "output_type": "execute_result"
    },
    {
     "data": {
      "image/png": "[encoded data removed]",
      "text/plain": [
       "<Figure size 360x360 with 1 Axes>"
      ]
     },
     "metadata": {
      "needs_background": "light"
     },
     "output_type": "display_data"
    }
   ],
   "source": [
    "sns.catplot(x='transmission',kind=\"count\",data=df)"
   ]
  },
  {
   "cell_type": "code",
   "execution_count": 21,
   "metadata": {},
   "outputs": [
    {
     "data": {
      "image/png": "[encoded data removed]",
      "text/plain": [
       "<Figure size 432x288 with 1 Axes>"
      ]
     },
     "metadata": {
      "needs_background": "light"
     },
     "output_type": "display_data"
    }
   ],
   "source": [
    "plt.hist(df[\"miles runned\"])\n",
    "plt.show()"
   ]
  },
  {
   "cell_type": "code",
   "execution_count": 22,
   "metadata": {},
   "outputs": [
    {
     "data": {
      "text/plain": [
       "<matplotlib.axes._subplots.AxesSubplot at 0x15997f5b250>"
      ]
     },
     "execution_count": 22,
     "metadata": {},
     "output_type": "execute_result"
    },
    {
     "data": {
      "image/png": "[encoded data removed]",
      "text/plain": [
       "<Figure size 432x288 with 1 Axes>"
      ]
     },
     "metadata": {
      "needs_background": "light"
     },
     "output_type": "display_data"
    }
   ],
   "source": [
    "df['miles runned'].plot(kind='box')"
   ]
  },
  {
   "cell_type": "code",
   "execution_count": 23,
   "metadata": {},
   "outputs": [
    {
     "data": {
      "text/html": [
       "<div>\n",
       "<style scoped>\n",
       "    .dataframe tbody tr th:only-of-type {\n",
       "        vertical-align: middle;\n",
       "    }\n",
       "\n",
       "    .dataframe tbody tr th {\n",
       "        vertical-align: top;\n",
       "    }\n",
       "\n",
       "    .dataframe thead th {\n",
       "        text-align: right;\n",
       "    }\n",
       "</style>\n",
       "<table border=\"1\" class=\"dataframe\">\n",
       "  <thead>\n",
       "    <tr style=\"text-align: right;\">\n",
       "      <th></th>\n",
       "      <th>year</th>\n",
       "      <th>price</th>\n",
       "      <th>transmission</th>\n",
       "      <th>miles runned</th>\n",
       "      <th>fuelType</th>\n",
       "      <th>tax</th>\n",
       "      <th>mpg</th>\n",
       "      <th>engineSize</th>\n",
       "      <th>car_age</th>\n",
       "    </tr>\n",
       "  </thead>\n",
       "  <tbody>\n",
       "    <tr>\n",
       "      <th>761</th>\n",
       "      <td>2010</td>\n",
       "      <td>4995</td>\n",
       "      <td>Manual</td>\n",
       "      <td>99000</td>\n",
       "      <td>Diesel</td>\n",
       "      <td>125</td>\n",
       "      <td>57.6</td>\n",
       "      <td>2.0</td>\n",
       "      <td>11</td>\n",
       "    </tr>\n",
       "    <tr>\n",
       "      <th>774</th>\n",
       "      <td>2004</td>\n",
       "      <td>1287</td>\n",
       "      <td>Manual</td>\n",
       "      <td>170000</td>\n",
       "      <td>Diesel</td>\n",
       "      <td>165</td>\n",
       "      <td>52.3</td>\n",
       "      <td>2.0</td>\n",
       "      <td>17</td>\n",
       "    </tr>\n",
       "    <tr>\n",
       "      <th>787</th>\n",
       "      <td>2013</td>\n",
       "      <td>6999</td>\n",
       "      <td>Manual</td>\n",
       "      <td>100000</td>\n",
       "      <td>Diesel</td>\n",
       "      <td>0</td>\n",
       "      <td>74.3</td>\n",
       "      <td>1.6</td>\n",
       "      <td>8</td>\n",
       "    </tr>\n",
       "    <tr>\n",
       "      <th>789</th>\n",
       "      <td>2010</td>\n",
       "      <td>7999</td>\n",
       "      <td>Manual</td>\n",
       "      <td>101000</td>\n",
       "      <td>Diesel</td>\n",
       "      <td>125</td>\n",
       "      <td>57.6</td>\n",
       "      <td>2.0</td>\n",
       "      <td>11</td>\n",
       "    </tr>\n",
       "    <tr>\n",
       "      <th>4394</th>\n",
       "      <td>2009</td>\n",
       "      <td>2999</td>\n",
       "      <td>Manual</td>\n",
       "      <td>101702</td>\n",
       "      <td>Diesel</td>\n",
       "      <td>20</td>\n",
       "      <td>68.9</td>\n",
       "      <td>1.6</td>\n",
       "      <td>12</td>\n",
       "    </tr>\n",
       "    <tr>\n",
       "      <th>...</th>\n",
       "      <td>...</td>\n",
       "      <td>...</td>\n",
       "      <td>...</td>\n",
       "      <td>...</td>\n",
       "      <td>...</td>\n",
       "      <td>...</td>\n",
       "      <td>...</td>\n",
       "      <td>...</td>\n",
       "      <td>...</td>\n",
       "    </tr>\n",
       "    <tr>\n",
       "      <th>15014</th>\n",
       "      <td>2008</td>\n",
       "      <td>2295</td>\n",
       "      <td>Manual</td>\n",
       "      <td>111000</td>\n",
       "      <td>Diesel</td>\n",
       "      <td>155</td>\n",
       "      <td>48.7</td>\n",
       "      <td>2.0</td>\n",
       "      <td>13</td>\n",
       "    </tr>\n",
       "    <tr>\n",
       "      <th>15015</th>\n",
       "      <td>2012</td>\n",
       "      <td>3995</td>\n",
       "      <td>Manual</td>\n",
       "      <td>110750</td>\n",
       "      <td>Diesel</td>\n",
       "      <td>20</td>\n",
       "      <td>67.3</td>\n",
       "      <td>1.6</td>\n",
       "      <td>9</td>\n",
       "    </tr>\n",
       "    <tr>\n",
       "      <th>15083</th>\n",
       "      <td>2016</td>\n",
       "      <td>8888</td>\n",
       "      <td>Automatic</td>\n",
       "      <td>108808</td>\n",
       "      <td>Diesel</td>\n",
       "      <td>125</td>\n",
       "      <td>58.9</td>\n",
       "      <td>2.0</td>\n",
       "      <td>5</td>\n",
       "    </tr>\n",
       "    <tr>\n",
       "      <th>15110</th>\n",
       "      <td>2012</td>\n",
       "      <td>6695</td>\n",
       "      <td>Manual</td>\n",
       "      <td>98000</td>\n",
       "      <td>Diesel</td>\n",
       "      <td>30</td>\n",
       "      <td>60.1</td>\n",
       "      <td>2.0</td>\n",
       "      <td>9</td>\n",
       "    </tr>\n",
       "    <tr>\n",
       "      <th>15148</th>\n",
       "      <td>2008</td>\n",
       "      <td>3695</td>\n",
       "      <td>Automatic</td>\n",
       "      <td>127000</td>\n",
       "      <td>Petrol</td>\n",
       "      <td>280</td>\n",
       "      <td>34.5</td>\n",
       "      <td>2.0</td>\n",
       "      <td>13</td>\n",
       "    </tr>\n",
       "  </tbody>\n",
       "</table>\n",
       "<p>150 rows × 9 columns</p>\n",
       "</div>"
      ],
      "text/plain": [
       "       year  price transmission  miles runned fuelType  tax   mpg  engineSize  \\\n",
       "761    2010   4995       Manual         99000   Diesel  125  57.6         2.0   \n",
       "774    2004   1287       Manual        170000   Diesel  165  52.3         2.0   \n",
       "787    2013   6999       Manual        100000   Diesel    0  74.3         1.6   \n",
       "789    2010   7999       Manual        101000   Diesel  125  57.6         2.0   \n",
       "4394   2009   2999       Manual        101702   Diesel   20  68.9         1.6   \n",
       "...     ...    ...          ...           ...      ...  ...   ...         ...   \n",
       "15014  2008   2295       Manual        111000   Diesel  155  48.7         2.0   \n",
       "15015  2012   3995       Manual        110750   Diesel   20  67.3         1.6   \n",
       "15083  2016   8888    Automatic        108808   Diesel  125  58.9         2.0   \n",
       "15110  2012   6695       Manual         98000   Diesel   30  60.1         2.0   \n",
       "15148  2008   3695    Automatic        127000   Petrol  280  34.5         2.0   \n",
       "\n",
       "       car_age  \n",
       "761         11  \n",
       "774         17  \n",
       "787          8  \n",
       "789         11  \n",
       "4394        12  \n",
       "...        ...  \n",
       "15014       13  \n",
       "15015        9  \n",
       "15083        5  \n",
       "15110        9  \n",
       "15148       13  \n",
       "\n",
       "[150 rows x 9 columns]"
      ]
     },
     "execution_count": 23,
     "metadata": {},
     "output_type": "execute_result"
    }
   ],
   "source": [
    "df[df[\"miles runned\"]>df[\"miles runned\"].quantile(.99)]"
   ]
  },
  {
   "cell_type": "code",
   "execution_count": 24,
   "metadata": {},
   "outputs": [
    {
     "data": {
      "text/plain": [
       "Petrol    8553\n",
       "Diesel    6372\n",
       "Hybrid     145\n",
       "Other       87\n",
       "Name: fuelType, dtype: int64"
      ]
     },
     "execution_count": 24,
     "metadata": {},
     "output_type": "execute_result"
    }
   ],
   "source": [
    "df.fuelType.value_counts()"
   ]
  },
  {
   "cell_type": "code",
   "execution_count": 25,
   "metadata": {},
   "outputs": [
    {
     "data": {
      "text/plain": [
       "<matplotlib.axes._subplots.AxesSubplot at 0x15997fe9ee0>"
      ]
     },
     "execution_count": 25,
     "metadata": {},
     "output_type": "execute_result"
    },
    {
     "data": {
      "image/png": "[encoded data removed]",
      "text/plain": [
       "<Figure size 432x288 with 1 Axes>"
      ]
     },
     "metadata": {
      "needs_background": "light"
     },
     "output_type": "display_data"
    }
   ],
   "source": [
    "sns.countplot(y='fuelType',data=df,color='c')\n"
   ]
  },
  {
   "cell_type": "code",
   "execution_count": 26,
   "metadata": {},
   "outputs": [
    {
     "data": {
      "text/plain": [
       "<matplotlib.axes._subplots.AxesSubplot at 0x1599804acd0>"
      ]
     },
     "execution_count": 26,
     "metadata": {},
     "output_type": "execute_result"
    },
    {
     "data": {
      "image/png": "[encoded data removed]",
      "text/plain": [
       "<Figure size 432x288 with 1 Axes>"
      ]
     },
     "metadata": {
      "needs_background": "light"
     },
     "output_type": "display_data"
    }
   ],
   "source": [
    "sns.distplot(df['tax'])\n"
   ]
  },
  {
   "cell_type": "code",
   "execution_count": 27,
   "metadata": {},
   "outputs": [
    {
     "data": {
      "image/png": "[encoded data removed]",
      "text/plain": [
       "<Figure size 432x288 with 1 Axes>"
      ]
     },
     "metadata": {
      "needs_background": "light"
     },
     "output_type": "display_data"
    }
   ],
   "source": [
    "plt.boxplot(df['tax'])\n",
    "plt.show()"
   ]
  },
  {
   "cell_type": "code",
   "execution_count": 28,
   "metadata": {},
   "outputs": [
    {
     "data": {
      "text/plain": [
       "<matplotlib.axes._subplots.AxesSubplot at 0x15995189430>"
      ]
     },
     "execution_count": 28,
     "metadata": {},
     "output_type": "execute_result"
    },
    {
     "data": {
      "image/png": "[encoded data removed]",
      "text/plain": [
       "<Figure size 432x288 with 1 Axes>"
      ]
     },
     "metadata": {
      "needs_background": "light"
     },
     "output_type": "display_data"
    }
   ],
   "source": [
    "sns.boxplot(df['tax'])"
   ]
  },
  {
   "cell_type": "code",
   "execution_count": 29,
   "metadata": {},
   "outputs": [
    {
     "data": {
      "image/png": "[encoded data removed]",
      "text/plain": [
       "<Figure size 432x288 with 1 Axes>"
      ]
     },
     "metadata": {
      "needs_background": "light"
     },
     "output_type": "display_data"
    }
   ],
   "source": [
    "plt.boxplot(df['mpg'])\n",
    "plt.show()"
   ]
  },
  {
   "cell_type": "code",
   "execution_count": 30,
   "metadata": {},
   "outputs": [
    {
     "data": {
      "image/png": "[encoded data removed]",
      "text/plain": [
       "<Figure size 432x288 with 1 Axes>"
      ]
     },
     "metadata": {
      "needs_background": "light"
     },
     "output_type": "display_data"
    }
   ],
   "source": [
    "plt.hist(df[\"mpg\"],bins=10)\n",
    "plt.show()"
   ]
  },
  {
   "cell_type": "code",
   "execution_count": 31,
   "metadata": {},
   "outputs": [
    {
     "data": {
      "text/plain": [
       "<matplotlib.axes._subplots.AxesSubplot at 0x15997cb27f0>"
      ]
     },
     "execution_count": 31,
     "metadata": {},
     "output_type": "execute_result"
    },
    {
     "data": {
      "image/png": "[encoded data removed]",
      "text/plain": [
       "<Figure size 432x288 with 1 Axes>"
      ]
     },
     "metadata": {
      "needs_background": "light"
     },
     "output_type": "display_data"
    }
   ],
   "source": [
    "sns.boxplot(df['engineSize'])\n"
   ]
  },
  {
   "cell_type": "code",
   "execution_count": 32,
   "metadata": {},
   "outputs": [
    {
     "data": {
      "image/png": "[encoded data removed]",
      "text/plain": [
       "<Figure size 432x288 with 1 Axes>"
      ]
     },
     "metadata": {
      "needs_background": "light"
     },
     "output_type": "display_data"
    }
   ],
   "source": [
    "plt.hist(df['car_age'],bins=20)\n",
    "plt.show()"
   ]
  },
  {
   "cell_type": "code",
   "execution_count": 33,
   "metadata": {},
   "outputs": [
    {
     "data": {
      "text/plain": [
       "<matplotlib.axes._subplots.AxesSubplot at 0x15998208ee0>"
      ]
     },
     "execution_count": 33,
     "metadata": {},
     "output_type": "execute_result"
    },
    {
     "data": {
      "image/png": "[encoded data removed]",
      "text/plain": [
       "<Figure size 432x288 with 1 Axes>"
      ]
     },
     "metadata": {
      "needs_background": "light"
     },
     "output_type": "display_data"
    }
   ],
   "source": [
    "sns.boxplot(df['car_age'])"
   ]
  },
  {
   "cell_type": "code",
   "execution_count": 34,
   "metadata": {},
   "outputs": [
    {
     "data": {
      "image/png": "[encoded data removed]",
      "text/plain": [
       "<Figure size 432x288 with 1 Axes>"
      ]
     },
     "metadata": {
      "needs_background": "light"
     },
     "output_type": "display_data"
    }
   ],
   "source": [
    "plt.boxplot(df['car_age'])\n",
    "plt.show()"
   ]
  },
  {
   "cell_type": "code",
   "execution_count": 35,
   "metadata": {},
   "outputs": [
    {
     "data": {
      "text/html": [
       "<div>\n",
       "<style scoped>\n",
       "    .dataframe tbody tr th:only-of-type {\n",
       "        vertical-align: middle;\n",
       "    }\n",
       "\n",
       "    .dataframe tbody tr th {\n",
       "        vertical-align: top;\n",
       "    }\n",
       "\n",
       "    .dataframe thead th {\n",
       "        text-align: right;\n",
       "    }\n",
       "</style>\n",
       "<table border=\"1\" class=\"dataframe\">\n",
       "  <thead>\n",
       "    <tr style=\"text-align: right;\">\n",
       "      <th></th>\n",
       "      <th>price</th>\n",
       "      <th>transmission</th>\n",
       "      <th>miles runned</th>\n",
       "      <th>fuelType</th>\n",
       "      <th>tax</th>\n",
       "      <th>mpg</th>\n",
       "      <th>engineSize</th>\n",
       "      <th>car_age</th>\n",
       "    </tr>\n",
       "  </thead>\n",
       "  <tbody>\n",
       "    <tr>\n",
       "      <th>0</th>\n",
       "      <td>25000</td>\n",
       "      <td>Automatic</td>\n",
       "      <td>13904</td>\n",
       "      <td>Diesel</td>\n",
       "      <td>145</td>\n",
       "      <td>49.6</td>\n",
       "      <td>2.0</td>\n",
       "      <td>2</td>\n",
       "    </tr>\n",
       "    <tr>\n",
       "      <th>1</th>\n",
       "      <td>26883</td>\n",
       "      <td>Automatic</td>\n",
       "      <td>4562</td>\n",
       "      <td>Diesel</td>\n",
       "      <td>145</td>\n",
       "      <td>49.6</td>\n",
       "      <td>2.0</td>\n",
       "      <td>2</td>\n",
       "    </tr>\n",
       "    <tr>\n",
       "      <th>2</th>\n",
       "      <td>20000</td>\n",
       "      <td>Manual</td>\n",
       "      <td>7414</td>\n",
       "      <td>Diesel</td>\n",
       "      <td>145</td>\n",
       "      <td>50.4</td>\n",
       "      <td>2.0</td>\n",
       "      <td>2</td>\n",
       "    </tr>\n",
       "    <tr>\n",
       "      <th>3</th>\n",
       "      <td>33492</td>\n",
       "      <td>Automatic</td>\n",
       "      <td>4825</td>\n",
       "      <td>Petrol</td>\n",
       "      <td>145</td>\n",
       "      <td>32.5</td>\n",
       "      <td>2.0</td>\n",
       "      <td>2</td>\n",
       "    </tr>\n",
       "    <tr>\n",
       "      <th>4</th>\n",
       "      <td>22900</td>\n",
       "      <td>Semi-Auto</td>\n",
       "      <td>6500</td>\n",
       "      <td>Petrol</td>\n",
       "      <td>150</td>\n",
       "      <td>39.8</td>\n",
       "      <td>1.5</td>\n",
       "      <td>2</td>\n",
       "    </tr>\n",
       "  </tbody>\n",
       "</table>\n",
       "</div>"
      ],
      "text/plain": [
       "   price transmission  miles runned fuelType  tax   mpg  engineSize  car_age\n",
       "0  25000    Automatic         13904   Diesel  145  49.6         2.0        2\n",
       "1  26883    Automatic          4562   Diesel  145  49.6         2.0        2\n",
       "2  20000       Manual          7414   Diesel  145  50.4         2.0        2\n",
       "3  33492    Automatic          4825   Petrol  145  32.5         2.0        2\n",
       "4  22900    Semi-Auto          6500   Petrol  150  39.8         1.5        2"
      ]
     },
     "execution_count": 35,
     "metadata": {},
     "output_type": "execute_result"
    }
   ],
   "source": [
    "df = df.drop(['year'],axis=1)\n",
    "df.head()"
   ]
  },
  {
   "cell_type": "code",
   "execution_count": 36,
   "metadata": {},
   "outputs": [
    {
     "data": {
      "text/plain": [
       "(15157, 8)"
      ]
     },
     "execution_count": 36,
     "metadata": {},
     "output_type": "execute_result"
    }
   ],
   "source": [
    "df.shape"
   ]
  },
  {
   "cell_type": "code",
   "execution_count": 37,
   "metadata": {},
   "outputs": [],
   "source": [
    "df = df.replace({'Automatic': 0, 'Manual': 1, 'Semi-Auto': 2})\n",
    "\n",
    "df = df.replace({'Diesel': 0, 'Petrol': 1, 'Hybrid': 2, 'Other': 3})"
   ]
  },
  {
   "cell_type": "code",
   "execution_count": 38,
   "metadata": {},
   "outputs": [
    {
     "data": {
      "text/plain": [
       "<matplotlib.axes._subplots.AxesSubplot at 0x159982e1d60>"
      ]
     },
     "execution_count": 38,
     "metadata": {},
     "output_type": "execute_result"
    },
    {
     "data": {
      "image/png": "[encoded data removed]",
      "text/plain": [
       "<Figure size 1152x720 with 2 Axes>"
      ]
     },
     "metadata": {
      "needs_background": "light"
     },
     "output_type": "display_data"
    }
   ],
   "source": [
    "plt.figure(figsize=(16,10))\n",
    "sns.heatmap(df.corr(),annot=True)"
   ]
  },
  {
   "cell_type": "markdown",
   "metadata": {},
   "source": [
    "## Splitting target and independent columns"
   ]
  },
  {
   "cell_type": "code",
   "execution_count": 88,
   "metadata": {},
   "outputs": [
    {
     "data": {
      "text/plain": [
       "0        25000\n",
       "1        26883\n",
       "2        20000\n",
       "3        33492\n",
       "4        22900\n",
       "         ...  \n",
       "15152     5990\n",
       "15153     1799\n",
       "15154     1590\n",
       "15155     1250\n",
       "15156     2295\n",
       "Name: price, Length: 15157, dtype: int64"
      ]
     },
     "execution_count": 88,
     "metadata": {},
     "output_type": "execute_result"
    }
   ],
   "source": [
    "X=df.drop([\"price\"],axis=1)\n",
    "X.head()\n",
    "\n",
    "y = df[\"price\"]\n",
    "y"
   ]
  },
  {
   "cell_type": "code",
   "execution_count": 42,
   "metadata": {},
   "outputs": [
    {
     "data": {
      "text/plain": [
       "((12125, 7), (3032, 7))"
      ]
     },
     "execution_count": 42,
     "metadata": {},
     "output_type": "execute_result"
    }
   ],
   "source": [
    "X_train, X_test, y_train,y_test = train_test_split(X,y,random_state=42,test_size=0.2)\n",
    "\n",
    "X_train.shape, X_test.shape"
   ]
  },
  {
   "cell_type": "markdown",
   "metadata": {},
   "source": [
    "## LINEAR REGRESSION"
   ]
  },
  {
   "cell_type": "code",
   "execution_count": 43,
   "metadata": {},
   "outputs": [
    {
     "data": {
      "text/plain": [
       "LinearRegression()"
      ]
     },
     "execution_count": 43,
     "metadata": {},
     "output_type": "execute_result"
    }
   ],
   "source": [
    "lin_reg = LinearRegression()\n",
    "lin_reg.fit(X_train,y_train)"
   ]
  },
  {
   "cell_type": "code",
   "execution_count": 44,
   "metadata": {},
   "outputs": [
    {
     "data": {
      "text/plain": [
       "0.7591675254865651"
      ]
     },
     "execution_count": 44,
     "metadata": {},
     "output_type": "execute_result"
    }
   ],
   "source": [
    "# for training dataset\n",
    "lin_reg.score(X_train,y_train)\n",
    "\n",
    "# for testing dataset\n",
    "lin_reg.score(X_test,y_test)"
   ]
  },
  {
   "cell_type": "code",
   "execution_count": 45,
   "metadata": {},
   "outputs": [],
   "source": [
    "lin_reg_predict = lin_reg.predict(X_test)"
   ]
  },
  {
   "cell_type": "code",
   "execution_count": 46,
   "metadata": {},
   "outputs": [
    {
     "name": "stdout",
     "output_type": "stream",
     "text": [
      "MAE: 2465.5258059238345\n",
      "MSE: 14291420.68553133\n",
      "RMSE: 3780.399540462797\n"
     ]
    }
   ],
   "source": [
    "# checking error rate\n",
    "print(\"MAE:\", mean_absolute_error(y_test,lin_reg_predict))\n",
    "print(\"MSE:\", mean_squared_error(y_test,lin_reg_predict))\n",
    "print(\"RMSE:\", np.sqrt(mean_squared_error(y_test,lin_reg_predict)))"
   ]
  },
  {
   "cell_type": "code",
   "execution_count": 48,
   "metadata": {},
   "outputs": [
    {
     "name": "stdout",
     "output_type": "stream",
     "text": [
      "Linear Regression accuracy :  0.7591675254865651\n"
     ]
    }
   ],
   "source": [
    "print(\"Linear Regression accuracy : \",r2_score(y_test,lin_reg_predict))"
   ]
  },
  {
   "cell_type": "markdown",
   "metadata": {},
   "source": [
    "## RANDOM FOREST REGRESSOR"
   ]
  },
  {
   "cell_type": "code",
   "execution_count": 49,
   "metadata": {},
   "outputs": [
    {
     "data": {
      "text/plain": [
       "RandomForestRegressor()"
      ]
     },
     "execution_count": 49,
     "metadata": {},
     "output_type": "execute_result"
    }
   ],
   "source": [
    "rfr = RandomForestRegressor()\n",
    "rfr.fit(X_train,y_train)"
   ]
  },
  {
   "cell_type": "code",
   "execution_count": 52,
   "metadata": {},
   "outputs": [
    {
     "data": {
      "text/plain": [
       "0.9370566960531278"
      ]
     },
     "execution_count": 52,
     "metadata": {},
     "output_type": "execute_result"
    }
   ],
   "source": [
    "rfr.score(X_train,y_train)\n",
    "\n",
    "rfr.score(X_test,y_test)"
   ]
  },
  {
   "cell_type": "code",
   "execution_count": 53,
   "metadata": {},
   "outputs": [],
   "source": [
    "rfr_predict = rfr.predict(X_test)"
   ]
  },
  {
   "cell_type": "code",
   "execution_count": 54,
   "metadata": {},
   "outputs": [
    {
     "name": "stdout",
     "output_type": "stream",
     "text": [
      "MAE: 1229.9410300263996\n",
      "MSE: 3735165.856927796\n",
      "RMSE: 1932.6577185129797\n"
     ]
    }
   ],
   "source": [
    "# checking error rate\n",
    "print(\"MAE:\", mean_absolute_error(y_test,rfr_predict))\n",
    "print(\"MSE:\", mean_squared_error(y_test,rfr_predict))\n",
    "print(\"RMSE:\", np.sqrt(mean_squared_error(y_test,rfr_predict)))"
   ]
  },
  {
   "cell_type": "code",
   "execution_count": 56,
   "metadata": {},
   "outputs": [
    {
     "name": "stdout",
     "output_type": "stream",
     "text": [
      "Random Forest Regression accuracy :  0.9370566960531278\n"
     ]
    }
   ],
   "source": [
    "print(\"Random Forest Regression accuracy : \",r2_score(y_test,rfr_predict))"
   ]
  },
  {
   "cell_type": "markdown",
   "metadata": {},
   "source": [
    "## XG BOOST"
   ]
  },
  {
   "cell_type": "code",
   "execution_count": 57,
   "metadata": {},
   "outputs": [
    {
     "data": {
      "text/plain": [
       "XGBRegressor(base_score=0.5, booster='gbtree', colsample_bylevel=1,\n",
       "             colsample_bynode=1, colsample_bytree=1, gamma=0, gpu_id=-1,\n",
       "             importance_type='gain', interaction_constraints='',\n",
       "             learning_rate=0.1, max_delta_step=0, max_depth=6,\n",
       "             min_child_weight=1, missing=nan, monotone_constraints='()',\n",
       "             n_estimators=100, n_jobs=4, num_parallel_tree=1, random_state=1,\n",
       "             reg_alpha=0, reg_lambda=1, scale_pos_weight=1, subsample=1,\n",
       "             tree_method='exact', validate_parameters=1, verbosity=None)"
      ]
     },
     "execution_count": 57,
     "metadata": {},
     "output_type": "execute_result"
    }
   ],
   "source": [
    "xgboost = xgb.XGBRegressor(random_state=1,learning_rate=0.1)\n",
    "xgboost.fit(X_train,y_train)"
   ]
  },
  {
   "cell_type": "code",
   "execution_count": 63,
   "metadata": {},
   "outputs": [
    {
     "data": {
      "text/plain": [
       "0.954225202742357"
      ]
     },
     "execution_count": 63,
     "metadata": {},
     "output_type": "execute_result"
    }
   ],
   "source": [
    "xgboost.score(X_test,y_test)\n",
    "\n",
    "xgboost.score(X_train,y_train)"
   ]
  },
  {
   "cell_type": "code",
   "execution_count": 64,
   "metadata": {},
   "outputs": [],
   "source": [
    "xgb_predict = xgboost.predict(X_test)"
   ]
  },
  {
   "cell_type": "code",
   "execution_count": 60,
   "metadata": {},
   "outputs": [
    {
     "name": "stdout",
     "output_type": "stream",
     "text": [
      "MAE: 1276.4210650360992\n",
      "MSE: 3694448.4925450613\n",
      "RMSE: 1922.0948188226982\n"
     ]
    }
   ],
   "source": [
    "# checking error rate\n",
    "print(\"MAE:\", mean_absolute_error(y_test,xgb_predict))\n",
    "print(\"MSE:\", mean_squared_error(y_test,xgb_predict))\n",
    "print(\"RMSE:\", np.sqrt(mean_squared_error(y_test,xgb_predict)))"
   ]
  },
  {
   "cell_type": "code",
   "execution_count": 65,
   "metadata": {},
   "outputs": [
    {
     "name": "stdout",
     "output_type": "stream",
     "text": [
      "XG BOOST Regression accuracy :  0.9377428464251399\n"
     ]
    }
   ],
   "source": [
    "print(\"XG BOOST Regression accuracy : \",r2_score(y_test,xgb_predict))"
   ]
  },
  {
   "cell_type": "markdown",
   "metadata": {},
   "source": [
    "## Bayesian Regression"
   ]
  },
  {
   "cell_type": "code",
   "execution_count": 69,
   "metadata": {},
   "outputs": [],
   "source": [
    "from sklearn.linear_model import BayesianRidge"
   ]
  },
  {
   "cell_type": "code",
   "execution_count": 70,
   "metadata": {},
   "outputs": [
    {
     "data": {
      "text/plain": [
       "BayesianRidge()"
      ]
     },
     "execution_count": 70,
     "metadata": {},
     "output_type": "execute_result"
    }
   ],
   "source": [
    "model = BayesianRidge()\n",
    "model.fit(X_train, y_train)"
   ]
  },
  {
   "cell_type": "code",
   "execution_count": 71,
   "metadata": {},
   "outputs": [],
   "source": [
    "prediction = model.predict(X_test)"
   ]
  },
  {
   "cell_type": "code",
   "execution_count": 73,
   "metadata": {},
   "outputs": [
    {
     "name": "stdout",
     "output_type": "stream",
     "text": [
      "Bayesian Regression accuracy : 0.7591752811121626\n"
     ]
    }
   ],
   "source": [
    "# Evaluation of r2 score of the model against the test set\n",
    "print(f\"Bayesian Regression accuracy : {r2_score(y_test, prediction)}\")"
   ]
  },
  {
   "cell_type": "markdown",
   "metadata": {},
   "source": [
    "# PICKLE"
   ]
  },
  {
   "cell_type": "code",
   "execution_count": 67,
   "metadata": {},
   "outputs": [],
   "source": [
    "# Random Forest Reg. Pickle\n",
    "\n",
    "f = open('rfr.pickle', 'wb')\n",
    "pickle.dump(rfr, f)\n",
    "f.close()"
   ]
  },
  {
   "cell_type": "code",
   "execution_count": 68,
   "metadata": {},
   "outputs": [],
   "source": [
    "# XG Boost Reg. Pickle\n",
    "\n",
    "f = open('xgboost.pickle', 'wb')\n",
    "pickle.dump(xgboost, f)\n",
    "f.close()"
   ]
  },
  {
   "cell_type": "markdown",
   "metadata": {},
   "source": [
    "## DONE"
   ]
  }
 ],
 "metadata": {
  "kernelspec": {
   "display_name": "Python 3",
   "language": "python",
   "name": "python3"
  },
  "language_info": {
   "codemirror_mode": {
    "name": "ipython",
    "version": 3
   },
   "file_extension": ".py",
   "mimetype": "text/x-python",
   "name": "python",
   "nbconvert_exporter": "python",
   "pygments_lexer": "ipython3",
   "version": "3.8.3"
  }
 },
 "nbformat": 4,
 "nbformat_minor": 4
}
